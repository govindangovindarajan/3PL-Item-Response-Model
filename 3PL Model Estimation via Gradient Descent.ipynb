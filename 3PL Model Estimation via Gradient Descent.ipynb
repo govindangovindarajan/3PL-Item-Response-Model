{
 "cells": [
  {
   "cell_type": "code",
   "execution_count": 355,
   "metadata": {},
   "outputs": [],
   "source": [
    "import numpy as np\n",
    "import matplotlib.pyplot as plt\n",
    "import random\n",
    "import csv\n",
    "%matplotlib inline"
   ]
  },
  {
   "cell_type": "code",
   "execution_count": 356,
   "metadata": {},
   "outputs": [],
   "source": [
    "def IRF(parameter):\n",
    "    a,b,c=parameter\n",
    "    return lambda x: c+(1-c)/(1+np.e**(-a*(x-b)))"
   ]
  },
  {
   "cell_type": "code",
   "execution_count": 404,
   "metadata": {},
   "outputs": [],
   "source": [
    "def finite_difference_IRF(parameter,pivot):\n",
    "    a,b,c=parameter\n",
    "    eps=10**-12\n",
    "    if pivot==0:\n",
    "        return lambda x: 0.5*(IRF([a+eps,b,c])(x)-IRF([a-eps,b,c])(x))/eps\n",
    "    if pivot==1:\n",
    "        return lambda x: 0.5*(IRF([a,b+eps,c])(x)-IRF([a,b-eps,c])(x))/eps\n",
    "    if pivot==2:\n",
    "        return lambda x: 0.5*(IRF([a,b,c+eps])(x)-IRF([a,b,c-eps])(x))/eps"
   ]
  },
  {
   "cell_type": "code",
   "execution_count": 405,
   "metadata": {},
   "outputs": [],
   "source": [
    "def Histogram(scorelist):\n",
    "    t=set(scorelist)\n",
    "    print t\n",
    "    p=[0 for _ in range(max(t)+1)]\n",
    "    for i in range(len(scorelist)):\n",
    "        p[scorelist[i]]+=1\n",
    "    return t,p"
   ]
  },
  {
   "cell_type": "code",
   "execution_count": 518,
   "metadata": {},
   "outputs": [],
   "source": [
    "Questions = [[1,0,0,0],[1,1,1,1],[1,0,1,0],[1,1,0,0],[1,1,0,0],[1,0,0,0],[1,1,1,0],[1,1,1,0],[0,0,0,0],[0,1,0,0],[1,0,0,0],[1,1,1,0]]\n",
    "for i in range(len(Questions)):\n",
    "    Questions[i].append(int(random.randint(0,sum(Questions[i]))>0))\n",
    "for i in range(len(Questions)):\n",
    "    Questions[i].append(int(random.randint(0,sum(Questions[i]))>1))\n",
    "for i in range(len(Questions)):\n",
    "    Questions[i].append(int(random.randint(0,sum(Questions[i]))>2))\n",
    "for i in range(len(Questions)):\n",
    "    Questions[i].append(int(random.randint(0,sum(Questions[i]))>3))"
   ]
  },
  {
   "cell_type": "code",
   "execution_count": 519,
   "metadata": {},
   "outputs": [
    {
     "name": "stdout",
     "output_type": "stream",
     "text": [
      "[[1, 0, 0, 0, 1, 0, 0, 0], [1, 1, 1, 1, 1, 0, 1, 0], [1, 0, 1, 0, 1, 1, 1, 1], [1, 1, 0, 0, 0, 1, 1, 1], [1, 1, 0, 0, 0, 0, 0, 0], [1, 0, 0, 0, 0, 0, 0, 0], [1, 1, 1, 0, 1, 0, 0, 0], [1, 1, 1, 0, 1, 1, 1, 0], [0, 0, 0, 0, 0, 0, 0, 0], [0, 1, 0, 0, 0, 0, 0, 0], [1, 0, 0, 0, 0, 0, 0, 0], [1, 1, 1, 0, 1, 0, 0, 0]]\n"
     ]
    }
   ],
   "source": [
    "print Questions"
   ]
  },
  {
   "cell_type": "code",
   "execution_count": 520,
   "metadata": {},
   "outputs": [
    {
     "name": "stdout",
     "output_type": "stream",
     "text": [
      "[2, 6, 6, 5, 2, 1, 4, 6, 0, 1, 1, 4]\n",
      "set([0, 1, 2, 4, 5, 6])\n"
     ]
    },
    {
     "data": {
      "text/plain": [
       "[<matplotlib.lines.Line2D at 0x7efbcd37c110>]"
      ]
     },
     "execution_count": 520,
     "metadata": {},
     "output_type": "execute_result"
    },
    {
     "data": {
      "image/png": "[encoded data removed]",
      "text/plain": [
       "<matplotlib.figure.Figure at 0x7efbcdaa1bd0>"
      ]
     },
     "metadata": {},
     "output_type": "display_data"
    }
   ],
   "source": [
    "print [sum(i) for i in Questions]\n",
    "plt.plot(Histogram([sum(i) for i in Questions])[1])"
   ]
  },
  {
   "cell_type": "code",
   "execution_count": 521,
   "metadata": {},
   "outputs": [
    {
     "data": {
      "text/plain": [
       "[<matplotlib.lines.Line2D at 0x7efbcd2a05d0>]"
      ]
     },
     "execution_count": 521,
     "metadata": {},
     "output_type": "execute_result"
    },
    {
     "data": {
      "image/png": "[encoded data removed]",
      "text/plain": [
       "<matplotlib.figure.Figure at 0x7efbcd313910>"
      ]
     },
     "metadata": {},
     "output_type": "display_data"
    }
   ],
   "source": [
    "X=[i/10.0 for i in range(-40,40)]\n",
    "plt.plot(list(map(lambda x: IRF([1,1,0.5])(x) , X)))"
   ]
  },
  {
   "cell_type": "code",
   "execution_count": 522,
   "metadata": {},
   "outputs": [],
   "source": [
    "no_questions=len(zip(*Questions))"
   ]
  },
  {
   "cell_type": "code",
   "execution_count": 523,
   "metadata": {},
   "outputs": [],
   "source": [
    "Parameters = [[2,2,1] for i in range(no_questions)]"
   ]
  },
  {
   "cell_type": "code",
   "execution_count": 524,
   "metadata": {},
   "outputs": [
    {
     "name": "stdout",
     "output_type": "stream",
     "text": [
      "[[2, 2, 1], [2, 2, 1], [2, 2, 1], [2, 2, 1], [2, 2, 1], [2, 2, 1], [2, 2, 1], [2, 2, 1]]\n"
     ]
    }
   ],
   "source": [
    "print Parameters\n",
    "mu=0.5"
   ]
  },
  {
   "cell_type": "code",
   "execution_count": 525,
   "metadata": {},
   "outputs": [],
   "source": [
    "def CalculateError(Questions,Parameters,show_plot=False):\n",
    "    theta_list = [sum(i) for i in Questions]\n",
    "    responses = zip(*Questions)\n",
    "    for index_item in range(len(responses)):\n",
    "        \n",
    "        if show_plot:\n",
    "            plt.plot([i/5.0 for i in range(0,26)],[IRF(Parameters[index_item])(i/5.0) for i in range(0,26)])\n",
    "        \n",
    "        Error_List = [(IRF(Parameters[index_item])(theta_list[i]) - responses[index_item][i])**2 for i in range(len(zip(*responses)))]\n",
    "        dError_List = [[IRF(Parameters[index_item])(theta_list[i]) - responses[index_item][i]] for i in range(len(zip(*responses)))]\n",
    "        \n",
    "        if show_plot:\n",
    "            print sum(Error_List)\n",
    "        \n",
    "        Gradients=[[finite_difference_IRF(Parameters[index_item],i)(theta_list[j]) for i in range(3)] for j in range(len(theta_list))]\n",
    "        \n",
    "        error_derivatives = np.multiply(dError_List,Gradients)\n",
    "        \n",
    "        learning = [-mu * sum(zip(*error_derivatives)[i]) for i in range(len(zip(*error_derivatives)))]\n",
    "        Parameters[index_item]=np.add(Parameters[index_item],learning)\n",
    "        \n",
    "        \n",
    "        Parameters[index_item][2]=max(Parameters[index_item][2],0)\n",
    "        Parameters[index_item][2]=min(Parameters[index_item][2],1)\n",
    "        \n",
    "    plt.show()"
   ]
  },
  {
   "cell_type": "code",
   "execution_count": 526,
   "metadata": {
    "scrolled": true
   },
   "outputs": [
    {
     "name": "stdout",
     "output_type": "stream",
     "text": [
      "2.0\n",
      "5.0\n",
      "7.0\n",
      "11.0\n",
      "6.0\n",
      "9.0\n",
      "8.0\n",
      "10.0\n"
     ]
    },
    {
     "data": {
      "image/png": "[encoded data removed]",
      "text/plain": [
       "<matplotlib.figure.Figure at 0x7efbcd5cf510>"
      ]
     },
     "metadata": {},
     "output_type": "display_data"
    },
    {
     "name": "stdout",
     "output_type": "stream",
     "text": [
      "0.670322902441\n",
      "2.18381406645\n",
      "1.00348369083\n",
      "0.669768906271\n",
      "1.50373802547\n",
      "1.05045212214\n",
      "0.015621637208\n",
      "1.27460278235\n"
     ]
    },
    {
     "data": {
      "image/png": "[encoded data removed]",
      "text/plain": [
       "<matplotlib.figure.Figure at 0x7efbcd13fd50>"
      ]
     },
     "metadata": {},
     "output_type": "display_data"
    }
   ],
   "source": [
    "initial=0.8\n",
    "final=0.02\n",
    "end=8000\n",
    "for itera in range(end):\n",
    "    mu=(initial-final)*np.e**-itera + final\n",
    "    CalculateError(Questions,Parameters,itera%(end-1)==0)"
   ]
  },
  {
   "cell_type": "code",
   "execution_count": 527,
   "metadata": {},
   "outputs": [
    {
     "name": "stdout",
     "output_type": "stream",
     "text": [
      "[ 3.49800015  0.80659156  0.        ]\n",
      "[ 0.9258114  1.9022264  0.       ]\n",
      "[ 3.02204174  3.06115777  0.        ]\n",
      "[ 2.14343183  6.33328384  0.        ]\n",
      "[ 3.27921435  2.00896477  0.        ]\n",
      "[ 1.39133969  5.01224462  0.        ]\n",
      "[ 5.04187427  4.53881357  0.        ]\n",
      "[ 0.64842697  6.32970458  0.        ]\n"
     ]
    }
   ],
   "source": [
    "print '\\n'.join(map(str,Parameters))"
   ]
  },
  {
   "cell_type": "code",
   "execution_count": null,
   "metadata": {},
   "outputs": [],
   "source": []
  }
 ],
 "metadata": {
  "kernelspec": {
   "display_name": "Python 2",
   "language": "python",
   "name": "python2"
  },
  "language_info": {
   "codemirror_mode": {
    "name": "ipython",
    "version": 2
   },
   "file_extension": ".py",
   "mimetype": "text/x-python",
   "name": "python",
   "nbconvert_exporter": "python",
   "pygments_lexer": "ipython2",
   "version": "2.7.12"
  }
 },
 "nbformat": 4,
 "nbformat_minor": 2
}
